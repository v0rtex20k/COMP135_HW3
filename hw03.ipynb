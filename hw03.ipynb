{
 "cells": [
  {
   "cell_type": "markdown",
   "metadata": {},
   "source": [
    "## Name and ID\n",
    "\n",
    "Victor Arsenescu |\n",
    "SID#: 1281442"
   ]
  },
  {
   "cell_type": "markdown",
   "metadata": {},
   "source": [
    "## HW03 Code\n",
    "\n",
    "\n",
    "You will complete the following notebook, as described in the PDF for Homework 03 (included in the download with the starter code).  You will submit:\n",
    "1. This notebook file, along with your COLLABORATORS.txt file and the two tree images (PDFs generated using `graphviz` within the code), to the Gradescope link for code.\n",
    "2. A PDF of this notebook and all of its output, once it is completed, to the Gradescope link for the PDF.\n",
    "\n",
    "\n",
    "Please report any questions to the [class Piazza page](https://piazza.com/tufts/spring2020/comp135).\n",
    "\n",
    "### Import required libraries."
   ]
  },
  {
   "cell_type": "code",
   "execution_count": 1,
   "metadata": {},
   "outputs": [],
   "source": [
    "import os\n",
    "import numpy as np\n",
    "import pandas as pd\n",
    "import math\n",
    "import warnings\n",
    "import statistics\n",
    "import sklearn.linear_model\n",
    "import sklearn.tree\n",
    "import sklearn.metrics\n",
    "\n",
    "from matplotlib import pyplot as plt\n",
    "import seaborn as sns\n",
    "%matplotlib inline\n",
    "plt.style.use('seaborn') # pretty matplotlib plots\n",
    "\n",
    "import graphviz"
   ]
  },
  {
   "cell_type": "markdown",
   "metadata": {},
   "source": [
    "## Part One: Cancer-Risk Screening\n",
    "\n",
    "### 1.1: Compute true/false positives/negatives.\n",
    "\n",
    "Complete the following code."
   ]
  },
  {
   "cell_type": "code",
   "execution_count": 2,
   "metadata": {},
   "outputs": [],
   "source": [
    "def calc_TP_TN_FP_FN(ytrue_N, yhat_N):\n",
    "    TP, TN, FP, FN = 0, 0, 0, 0 \n",
    "    for true, hat in zip(ytrue_N, yhat_N):\n",
    "        if (true, hat) == (1,1):\n",
    "            TP += 1\n",
    "        elif (true, hat) == (0,0):\n",
    "            TN += 1\n",
    "        elif (true, hat) == (0,1):\n",
    "            FP += 1\n",
    "        elif (true, hat) == (1,0):\n",
    "            FN += 1\n",
    "    return TP, TN, FP, FN"
   ]
  },
  {
   "cell_type": "code",
   "execution_count": 3,
   "metadata": {},
   "outputs": [
    {
     "data": {
      "text/plain": [
       "(0, 0, 10, 0)"
      ]
     },
     "execution_count": 3,
     "metadata": {},
     "output_type": "execute_result"
    }
   ],
   "source": [
    "all0 = np.zeros(10)\n",
    "all1 = np.ones(10)\n",
    "calc_TP_TN_FP_FN(all0, all1)"
   ]
  },
  {
   "cell_type": "code",
   "execution_count": 4,
   "metadata": {},
   "outputs": [
    {
     "data": {
      "text/plain": [
       "(0, 0, 0, 10)"
      ]
     },
     "execution_count": 4,
     "metadata": {},
     "output_type": "execute_result"
    }
   ],
   "source": [
    "calc_TP_TN_FP_FN(all1, all0)"
   ]
  },
  {
   "cell_type": "code",
   "execution_count": 5,
   "metadata": {},
   "outputs": [
    {
     "data": {
      "text/plain": [
       "(10, 0, 0, 0)"
      ]
     },
     "execution_count": 5,
     "metadata": {},
     "output_type": "execute_result"
    }
   ],
   "source": [
    "calc_TP_TN_FP_FN(all1, all1)"
   ]
  },
  {
   "cell_type": "code",
   "execution_count": 6,
   "metadata": {},
   "outputs": [
    {
     "data": {
      "text/plain": [
       "(0, 10, 0, 0)"
      ]
     },
     "execution_count": 6,
     "metadata": {},
     "output_type": "execute_result"
    }
   ],
   "source": [
    "calc_TP_TN_FP_FN(all0, all0)"
   ]
  },
  {
   "cell_type": "markdown",
   "metadata": {},
   "source": [
    "### Supplied functions for later use\n",
    "\n",
    "***Do not*** edit the following functions.  They are already complete, and will be used in your later code."
   ]
  },
  {
   "cell_type": "code",
   "execution_count": 7,
   "metadata": {},
   "outputs": [],
   "source": [
    "def calc_perf_metrics_for_threshold(ytrue_N, yproba1_N, thresh):\n",
    "    ''' Compute performance metrics for a given probabilistic classifier and threshold\n",
    "    '''\n",
    "    tp, tn, fp, fn = calc_TP_TN_FP_FN(ytrue_N, yproba1_N >= thresh)\n",
    "    ## Compute ACC, TPR, TNR, etc.\n",
    "    acc = (tp + tn) / float(tp + tn + fp + fn + 1e-10)\n",
    "    tpr = tp / float(tp + fn + 1e-10)\n",
    "    tnr = tn / float(fp + tn + 1e-10)\n",
    "    ppv = tp / float(tp + fp + 1e-10)\n",
    "    npv = tn / float(tn + fn + 1e-10)\n",
    "    \n",
    "    return acc, tpr, tnr, ppv, npv\n",
    "\n",
    "def print_perf_metrics_for_threshold(ytrue_N, yproba1_N, thresh):\n",
    "    ''' Pretty print perf. metrics for a given probabilistic classifier and threshold\n",
    "    '''\n",
    "    acc, tpr, tnr, ppv, npv = calc_perf_metrics_for_threshold(ytrue_N, yproba1_N, thresh)\n",
    "    \n",
    "    ## Pretty print the results\n",
    "    print(\"%.3f ACC\" % acc)\n",
    "    print(\"%.3f TPR\" % tpr)\n",
    "    print(\"%.3f TNR\" % tnr)\n",
    "    print(\"%.3f PPV\" % ppv)\n",
    "    print(\"%.3f NPV\" % npv)"
   ]
  },
  {
   "cell_type": "code",
   "execution_count": 8,
   "metadata": {},
   "outputs": [],
   "source": [
    "def calc_confusion_matrix_for_threshold(ytrue_N, yproba1_N, thresh):\n",
    "    ''' Compute the confusion matrix for a given probabilistic classifier and threshold\n",
    "    \n",
    "    Args\n",
    "    ----\n",
    "    ytrue_N : 1D array of floats\n",
    "        Each entry represents the binary value (0 or 1) of 'true' label of one example\n",
    "        One entry per example in current dataset\n",
    "    yproba1_N : 1D array of floats\n",
    "        Each entry represents a probability (between 0 and 1) that correct label is positive (1)\n",
    "        One entry per example in current dataset\n",
    "        Needs to be same size as ytrue_N\n",
    "    thresh : float\n",
    "        Scalar threshold for converting probabilities into hard decisions\n",
    "        Calls an example \"positive\" if yproba1 >= thresh\n",
    "\n",
    "    Returns\n",
    "    -------\n",
    "    cm_df : Pandas DataFrame\n",
    "        Can be printed like print(cm_df) to easily display results\n",
    "    '''\n",
    "    cm = sklearn.metrics.confusion_matrix(ytrue_N, yproba1_N >= thresh)\n",
    "    cm_df = pd.DataFrame(data=cm, columns=[0, 1], index=[0, 1])\n",
    "    cm_df.columns.name = 'Predicted'\n",
    "    cm_df.index.name = 'True'\n",
    "    return cm_df"
   ]
  },
  {
   "cell_type": "code",
   "execution_count": 9,
   "metadata": {},
   "outputs": [],
   "source": [
    "def compute_perf_metrics_across_thresholds(ytrue_N, yproba1_N, thresh_grid=None):\n",
    "    ''' Compute common binary classifier performance metrics across many thresholds\n",
    "    \n",
    "    If no array of thresholds is provided, will use all 'unique' values\n",
    "    in the yproba1_N array to define all possible thresholds with different performance.\n",
    "    \n",
    "    Args\n",
    "    ----\n",
    "    ytrue_N : 1D array of floats\n",
    "        Each entry represents the binary value (0 or 1) of 'true' label of one example\n",
    "        One entry per example in current dataset\n",
    "    yproba1_N : 1D array of floats\n",
    "        Each entry represents a probability (between 0 and 1) that correct label is positive (1)\n",
    "        One entry per example in current dataset\n",
    "\n",
    "    Returns\n",
    "    -------\n",
    "    thresh_grid : 1D array of floats\n",
    "        One entry for each possible threshold\n",
    "    perf_dict : dict, with key, value pairs:\n",
    "        * 'acc' : 1D array of accuracy values (one per threshold)\n",
    "        * 'ppv' : 1D array of positive predictive values (one per threshold)\n",
    "        * 'npv' : 1D array of negative predictive values (one per threshold)\n",
    "        * 'tpr' : 1D array of true positive rates (one per threshold)\n",
    "        * 'tnr' : 1D array of true negative rates (one per threshold)\n",
    "    '''\n",
    "    if thresh_grid is None:\n",
    "        bin_edges = np.linspace(0, 1.001, 21)\n",
    "        thresh_grid = np.sort(np.hstack([bin_edges, np.unique(yproba1_N)]))\n",
    "    tpr_grid = np.zeros_like(thresh_grid)\n",
    "    tnr_grid = np.zeros_like(thresh_grid)\n",
    "    ppv_grid = np.zeros_like(thresh_grid)\n",
    "    npv_grid = np.zeros_like(thresh_grid)\n",
    "    acc_grid = np.zeros_like(thresh_grid)\n",
    "    for tt, thresh in enumerate(thresh_grid):\n",
    "        # Apply specific threshold to convert probas into hard binary values (0 or 1)\n",
    "        # Then count number of true positives, true negatives, etc.\n",
    "        # Then compute metrics like accuracy and true positive rate\n",
    "        acc, tpr, tnr, ppv, npv = calc_perf_metrics_for_threshold(ytrue_N, yproba1_N, thresh)\n",
    "        acc_grid[tt] = acc\n",
    "        tpr_grid[tt] = tpr\n",
    "        tnr_grid[tt] = tnr\n",
    "        ppv_grid[tt] = ppv\n",
    "        npv_grid[tt] = npv\n",
    "    return thresh_grid, dict(\n",
    "        acc=acc_grid,\n",
    "        tpr=tpr_grid,\n",
    "        tnr=tnr_grid,\n",
    "        ppv=ppv_grid,\n",
    "        npv=npv_grid)\n",
    "\n",
    "def make_plot_perf_vs_threshold(ytrue_N, yproba1_N, bin_edges=np.linspace(0, 1, 21)):\n",
    "    ''' Make pretty plot of binary classifier performance as threshold increases\n",
    "    \n",
    "    Produces a plot with 3 rows:\n",
    "    * top row: hist of predicted probabilities for negative examples (shaded red)\n",
    "    * middle row: hist of predicted probabilities for positive examples (shaded blue)\n",
    "    * bottom row: line plots of metrics that require hard decisions (ACC, TPR, TNR, etc.)\n",
    "    '''\n",
    "    fig, axes = plt.subplots(nrows=3, ncols=1, figsize=(12, 8))\n",
    "    sns.distplot(\n",
    "        yproba1_N[ytrue_N == 0],\n",
    "        color='r', bins=bin_edges, kde=False, rug=True, ax=axes[0]);\n",
    "    sns.distplot(\n",
    "        yproba1_N[ytrue_N == 1],\n",
    "        color='b', bins=bin_edges, kde=False, rug=True, ax=axes[1]);\n",
    "\n",
    "    thresh_grid, perf_grid = compute_perf_metrics_across_thresholds(ytrue_N, yproba1_N)\n",
    "    axes[2].plot(thresh_grid, perf_grid['acc'], 'k-', label='accuracy')\n",
    "    axes[2].plot(thresh_grid, perf_grid['tpr'], 'b-', label='TPR (recall/sensitivity)')\n",
    "    axes[2].plot(thresh_grid, perf_grid['tnr'], 'g-', label='TNR (specificity)')\n",
    "    axes[2].plot(thresh_grid, perf_grid['ppv'], 'c-', label='PPV (precision)')\n",
    "    axes[2].plot(thresh_grid, perf_grid['npv'], 'm-', label='NPV')\n",
    "    \n",
    "    axes[2].legend()\n",
    "    axes[2].set_ylim([0, 1])"
   ]
  },
  {
   "cell_type": "markdown",
   "metadata": {},
   "source": [
    "### Load the dataset.\n",
    "\n",
    "The following should ***not*** be modified.  After it runs, the various arrays it creates will contain the 2- or 3-feature input datasets."
   ]
  },
  {
   "cell_type": "code",
   "execution_count": 10,
   "metadata": {},
   "outputs": [],
   "source": [
    "# Load 3 feature version of x arrays\n",
    "x_tr_M3 = np.loadtxt('./data_cancer/x_train.csv', delimiter=',', skiprows=1)\n",
    "x_va_N3 = np.loadtxt('./data_cancer/x_valid.csv', delimiter=',', skiprows=1)\n",
    "x_te_N3 = np.loadtxt('./data_cancer/x_test.csv', delimiter=',', skiprows=1)\n",
    "\n",
    "# 2 feature version of x arrays\n",
    "x_tr_M2 = x_tr_M3[:, :2].copy()\n",
    "x_va_N2 = x_va_N3[:, :2].copy()\n",
    "x_te_N2 = x_te_N3[:, :2].copy()"
   ]
  },
  {
   "cell_type": "code",
   "execution_count": 11,
   "metadata": {},
   "outputs": [],
   "source": [
    "y_tr_M = np.loadtxt('./data_cancer/y_train.csv', delimiter=',', skiprows=1)\n",
    "y_va_N = np.loadtxt('./data_cancer/y_valid.csv', delimiter=',', skiprows=1)\n",
    "y_te_N = np.loadtxt('./data_cancer/y_test.csv', delimiter=',', skiprows=1)"
   ]
  },
  {
   "cell_type": "markdown",
   "metadata": {},
   "source": [
    "### 1.2: Compute the fraction of patients with cancer.\n",
    "\n",
    "Complete the following code.  Your solution needs to ***compute*** these values from the training, validation, and testing sets (i.e., don't simply hand-count and print the values)."
   ]
  },
  {
   "cell_type": "code",
   "execution_count": 12,
   "metadata": {},
   "outputs": [
    {
     "name": "stdout",
     "output_type": "stream",
     "text": [
      "Fraction with cancer in TRAIN: 0.141\n",
      "Fraction with cancer in VALID: 0.139\n",
      "Fraction with cancer in TEST : 0.139\n"
     ]
    }
   ],
   "source": [
    "print(\"Fraction with cancer in TRAIN: %.3f\" % (sum([val for val in y_tr_M]) / len(y_tr_M))) #TODO: modify what is printed here.\n",
    "print(\"Fraction with cancer in VALID: %.3f\" % (sum([val for val in y_va_N]) / len(y_va_N)))\n",
    "print(\"Fraction with cancer in TEST : %.3f\" % (sum([val for val in y_te_N]) / len(y_te_N)))"
   ]
  },
  {
   "cell_type": "markdown",
   "metadata": {},
   "source": [
    "### 1.3: The predict-0-always baseline\n",
    "\n",
    "#### (a) Compute the accuracy of the always-0 classifier.\n",
    "\n",
    "Complete the code to compute and print the accuracy of the always-0 classifier on validation and test outputs."
   ]
  },
  {
   "cell_type": "code",
   "execution_count": 13,
   "metadata": {},
   "outputs": [
    {
     "name": "stdout",
     "output_type": "stream",
     "text": [
      "Always-0: accuracy on VALID: 0.861\n",
      "Always-0: accuracy on TEST : 0.861\n"
     ]
    }
   ],
   "source": [
    "print(\"Always-0: accuracy on VALID: %.3f\" % (1 - sum([val for val in y_va_N]) / len(y_va_N))) # TODO edit values!\n",
    "print(\"Always-0: accuracy on TEST : %.3f\" % (1 - sum([val for val in y_te_N]) / len(y_te_N)))"
   ]
  },
  {
   "cell_type": "markdown",
   "metadata": {},
   "source": [
    "#### (b) Print a confusion matrix for the always-0 classifier.\n",
    "\n",
    "Add code below to generate a confusion matrix for the always-0 classifier on the validation set."
   ]
  },
  {
   "cell_type": "code",
   "execution_count": 165,
   "metadata": {},
   "outputs": [
    {
     "name": "stdout",
     "output_type": "stream",
     "text": [
      "Predicted    0  1\n",
      "True             \n",
      "0          335  0\n",
      "1           55  0\n"
     ]
    }
   ],
   "source": [
    "print(calc_confusion_matrix_for_threshold(y_tr_M, np.zeros(len(y_tr_M)), 0.5))"
   ]
  },
  {
   "cell_type": "markdown",
   "metadata": {},
   "source": [
    "#### (c) Reflect on the accuracy of the always-0 classifier.\n",
    "\n",
    "**Answer**: The always-0 classifier is about 86% accurate. Although this seems very high, it's in fact very misleading. Our original dataset y_tr_M only has 55 positive values (1) vs 335 zero values. Clearly, the always-0 classifier fails on any positive value and succeeds on all zero values."
   ]
  },
  {
   "cell_type": "markdown",
   "metadata": {},
   "source": [
    "#### (d) Analyze the various costs of using the always-0 classifier.\n",
    "\n",
    "\n",
    "**Answer**: Obviously, a classification of 0 corresponds to a \"healthy\" diagnosis. This means all patients are classified as healthy. In the case that a patient actually *is* healthy, this is fine. However, in the case where the patient actually has cancer - a false negative -, this test is a waste of money, waste of time, and is completely misleading. This poor test may make the patient believe they are healthy, then send them home without treatment, making it even harder to get treated in time. I would recommend not using this classifier at all, since false negatives are just about the worst thing that a classifier could give, because it suggests no treatment for a dying patient. If it must be used, use another classifier as well and compare."
   ]
  },
  {
   "cell_type": "markdown",
   "metadata": {},
   "source": [
    "### 1.4: Logistic Regression\n",
    "\n",
    "#### (a) Create a set of `LogisticRegression` models.\n",
    "\n",
    "Each model will use a different control parameter, `C`, and each will be fit to 2-feature data.  Probabilistic predictions will be made on both training set and validation set inputs, and logistic-loss for each will be recorded."
   ]
  },
  {
   "cell_type": "code",
   "execution_count": 166,
   "metadata": {
    "scrolled": false
   },
   "outputs": [],
   "source": [
    "tr_loss_list = list()\n",
    "va_loss_list = list()\n",
    "\n",
    "# TODO fit, predict_proba, and evaluate logistic loss    \n",
    "# Record the best model here\n",
    "C_grid = np.logspace(-9, 6, 31)\n",
    "for C in C_grid:\n",
    "    Tclf = sklearn.linear_model.LogisticRegression(C=C, solver=\"liblinear\")\n",
    "    Tclf.fit(x_tr_M2, y_tr_M)\n",
    "    Tpredictions = Tclf.predict_proba(x_tr_M2)\n",
    "    Vpredictions = Tclf.predict_proba(x_va_N2)\n",
    "    tr_loss_list.append(sklearn.metrics.log_loss(y_tr_M, Tpredictions))\n",
    "    va_loss_list.append(sklearn.metrics.log_loss(y_va_N, Vpredictions))\n",
    "    \n",
    "best_model_loss = min(va_loss_list)\n",
    "best_model_C    = C_grid[va_loss_list.index(best_model_loss)]"
   ]
  },
  {
   "cell_type": "markdown",
   "metadata": {},
   "source": [
    "#### Plot logistic loss (y-axis) vs. C (x-axis) on the training set and validation set.\n",
    "\n",
    "The best values for `C` and the loss should be printed."
   ]
  },
  {
   "cell_type": "code",
   "execution_count": 167,
   "metadata": {},
   "outputs": [
    {
     "data": {
      "image/png": "[encoded data removed]",
      "text/plain": [
       "<Figure size 576x396 with 1 Axes>"
      ]
     },
     "metadata": {},
     "output_type": "display_data"
    },
    {
     "name": "stdout",
     "output_type": "stream",
     "text": [
      "Best C-value for LR with 2-feature data: 31.623\n",
      "Validation set log-loss at best C-value: 0.3549\n"
     ]
    }
   ],
   "source": [
    "# TODO make plot\n",
    "plt.xlabel('log10(C)');\n",
    "plt.ylabel('logistic loss');\n",
    "plt.ylim([0.0, 0.7]);\n",
    "\n",
    "plt.plot([math.log10(c) for c in C_grid], tr_loss_list, color='blue', label=\"Training\")\n",
    "plt.plot([math.log10(c) for c in C_grid], va_loss_list, color='red', label=\"Validation\")\n",
    "plt.legend()\n",
    "plt.title('Training and Validation Loss for Logistic Regression')\n",
    "plt.xlabel('log10(C)')\n",
    "plt.ylabel('logistic loss')\n",
    "plt.show()\n",
    "\n",
    "print(\"Best C-value for LR with 2-feature data: %.3f\" % best_model_C) # TODO\n",
    "print(\"Validation set log-loss at best C-value: %.4f\" % best_model_loss)"
   ]
  },
  {
   "cell_type": "markdown",
   "metadata": {},
   "source": [
    "#### (b) Plot the performance of the predictions made by the best classifier from step (a) on the validation set."
   ]
  },
  {
   "cell_type": "code",
   "execution_count": 168,
   "metadata": {
    "scrolled": false
   },
   "outputs": [
    {
     "data": {
      "image/png": "[encoded data removed]",
      "text/plain": [
       "<Figure size 864x576 with 3 Axes>"
      ]
     },
     "metadata": {},
     "output_type": "display_data"
    }
   ],
   "source": [
    "best_clf = sklearn.linear_model.LogisticRegression(C=best_model_C, solver=\"liblinear\")\n",
    "best_clf.fit(x_tr_M2, y_tr_M)\n",
    "best_probabilities = best_clf.predict_proba(x_va_N2)\n",
    "make_plot_perf_vs_threshold(y_va_N, best_probabilities[:,-1])"
   ]
  },
  {
   "cell_type": "markdown",
   "metadata": {},
   "source": [
    "#### (c) Model fitting with 3-feature data\n",
    "\n",
    "Repeat the model generation from **1.4 (a)**, using the full 3-feature data."
   ]
  },
  {
   "cell_type": "code",
   "execution_count": 169,
   "metadata": {},
   "outputs": [],
   "source": [
    "tr_loss_list3 = list()\n",
    "va_loss_list3 = list()\n",
    "\n",
    "# TODO fit, predict_proba, and evaluate logistic loss    \n",
    "# Record the best model here\n",
    "for C in C_grid:\n",
    "    Tclf = sklearn.linear_model.LogisticRegression(C=C, solver=\"liblinear\")\n",
    "    Tclf.fit(x_tr_M3, y_tr_M)\n",
    "    Tpredictions = Tclf.predict_proba(x_tr_M3)\n",
    "    Vpredictions = Tclf.predict_proba(x_va_N3)\n",
    "    tr_loss_list3.append(sklearn.metrics.log_loss(y_tr_M, Tpredictions))\n",
    "    va_loss_list3.append(sklearn.metrics.log_loss(y_va_N, Vpredictions))\n",
    "    \n",
    "best_model_loss3 = min(va_loss_list3)\n",
    "best_model_C3    = C_grid[va_loss_list3.index(best_model_loss3)]"
   ]
  },
  {
   "cell_type": "markdown",
   "metadata": {},
   "source": [
    "#### Plot logistic loss (y-axis) vs. C (x-axis) for the 3-feature classifiers on the training set and validation set.\n",
    "\n",
    "Again, the best values for `C` and the loss should be printed."
   ]
  },
  {
   "cell_type": "code",
   "execution_count": 170,
   "metadata": {},
   "outputs": [
    {
     "data": {
      "image/png": "[encoded data removed]",
      "text/plain": [
       "<Figure size 576x396 with 1 Axes>"
      ]
     },
     "metadata": {},
     "output_type": "display_data"
    },
    {
     "name": "stdout",
     "output_type": "stream",
     "text": [
      "Best C-value for LR with 3-feature data: 1000000.000\n",
      "Validation set log-loss at best C-value: 0.2810\n"
     ]
    }
   ],
   "source": [
    "# TODO make plot\n",
    "plt.xlabel('log10(C)');\n",
    "plt.ylabel('logistic loss');\n",
    "plt.ylim([0.0, 0.7]);\n",
    "\n",
    "plt.plot([math.log10(c) for c in C_grid], tr_loss_list3, color='blue', label=\"Training\")\n",
    "plt.plot([math.log10(c) for c in C_grid], va_loss_list3, color='red', label=\"Validation\")\n",
    "plt.legend()\n",
    "plt.title('Training and Validation Loss for Logistic Regression')\n",
    "plt.xlabel('log10(C)')\n",
    "plt.ylabel('logistic loss')\n",
    "plt.show()\n",
    "\n",
    "print(\"Best C-value for LR with 3-feature data: %.3f\" % best_model_C3) # TODO\n",
    "print(\"Validation set log-loss at best C-value: %.4f\" % best_model_loss3)"
   ]
  },
  {
   "cell_type": "markdown",
   "metadata": {},
   "source": [
    "#### Plot the performance of the predictions made by the best 3-valued classifier on the validation set."
   ]
  },
  {
   "cell_type": "code",
   "execution_count": 171,
   "metadata": {
    "scrolled": false
   },
   "outputs": [
    {
     "data": {
      "image/png": "[encoded data removed]",
      "text/plain": [
       "<Figure size 864x576 with 3 Axes>"
      ]
     },
     "metadata": {},
     "output_type": "display_data"
    }
   ],
   "source": [
    "best_clf3 = sklearn.linear_model.LogisticRegression(C=best_model_C3, solver=\"liblinear\")\n",
    "best_clf3.fit(x_tr_M3, y_tr_M)\n",
    "best_probabilities3 = best_clf3.predict_proba(x_va_N3)\n",
    "make_plot_perf_vs_threshold(y_va_N, best_probabilities3[:,-1])"
   ]
  },
  {
   "cell_type": "markdown",
   "metadata": {},
   "source": [
    "### 1.5: ROC Curves\n",
    "\n",
    "These curves allow us to compare model performance in terms of trade-offs between false positive and true positive results.\n",
    "\n",
    "#### (a) Plot ROC curves on the validation set.\n",
    "\n",
    "There should be two curves in the plot, one for each of the best two classifiers from prior steps."
   ]
  },
  {
   "cell_type": "code",
   "execution_count": 173,
   "metadata": {},
   "outputs": [
    {
     "data": {
      "image/png": "[encoded data removed]",
      "text/plain": [
       "<Figure size 576x396 with 1 Axes>"
      ]
     },
     "metadata": {},
     "output_type": "display_data"
    }
   ],
   "source": [
    "fpr2, tpr2, _ = sklearn.metrics.roc_curve(y_va_N, best_probabilities[:,-1])\n",
    "fpr3, tpr3, _ = sklearn.metrics.roc_curve(y_va_N, best_probabilities3[:,-1])\n",
    "\n",
    "plt.ylim([0, 1]);\n",
    "plt.xlabel(\"False Postive rate (FPR = 1 - TPR)\");\n",
    "plt.ylabel(\"True Postive rate (TPR)\");\n",
    "plt.plot(fpr2, tpr2, color='red', label=\"2-feature\")\n",
    "plt.plot(fpr3, tpr3, color='green', label=\"3-feature\")\n",
    "plt.legend()\n",
    "plt.show()"
   ]
  },
  {
   "cell_type": "markdown",
   "metadata": {},
   "source": [
    "#### (b) Plot ROC curves on the test set.\n",
    "\n",
    "There should be two curves in the plot, one for each of the best two classifiers from prior steps."
   ]
  },
  {
   "cell_type": "code",
   "execution_count": 174,
   "metadata": {},
   "outputs": [
    {
     "data": {
      "image/png": "[encoded data removed]",
      "text/plain": [
       "<Figure size 576x396 with 1 Axes>"
      ]
     },
     "metadata": {},
     "output_type": "display_data"
    }
   ],
   "source": [
    "best_probabilities_test  = best_clf.predict_proba(x_te_N2)\n",
    "best_probabilities3_test = best_clf3.predict_proba(x_te_N3)\n",
    "\n",
    "fpr2t, tpr2t, _ = sklearn.metrics.roc_curve(y_te_N, best_probabilities_test[:,-1])\n",
    "fpr3t, tpr3t, _ = sklearn.metrics.roc_curve(y_te_N, best_probabilities3_test[:,-1])\n",
    "\n",
    "plt.ylim([0, 1]);\n",
    "plt.xlabel(\"False Postive rate (FPR = 1 - TPR)\");\n",
    "plt.ylabel(\"True Postive rate (TPR)\");\n",
    "plt.plot(fpr2t, tpr2t, color='red', label=\"2-feature\")\n",
    "plt.plot(fpr3t, tpr3t, color='green', label=\"3-feature\")\n",
    "plt.legend()\n",
    "plt.show()"
   ]
  },
  {
   "cell_type": "markdown",
   "metadata": {},
   "source": [
    "#### (c) Analyze the results shown in both the above plots, to compare classifier performance."
   ]
  },
  {
   "cell_type": "markdown",
   "metadata": {},
   "source": [
    "**Answer**: In both validation and testing (1.5a and 1.5b), the 3-feature classifier (green) dominates the 2-feature classifier (red). There is a small region in 1.5b where 2-feature is winning, but overall this is not significant, since the 3-feature wins everywhere else. This tells us that using the 3-feature dataset results in a higher True Positive Rate and a lower False Positive Rate overall than using the 2-feature dataset. Therefore, we interpret these graphs to mean that we should use the 3-feature dataset in our experiments."
   ]
  },
  {
   "cell_type": "markdown",
   "metadata": {},
   "source": [
    "### 1.6: Selecting a decision threshold\n",
    "\n",
    "#### (a) Using default 0.5 threshold. \n",
    "\n",
    "Generate a confusion matrix for the best 3-feature logistic model on the test set, using threshold 0.5."
   ]
  },
  {
   "cell_type": "code",
   "execution_count": 175,
   "metadata": {
    "scrolled": false
   },
   "outputs": [
    {
     "name": "stdout",
     "output_type": "stream",
     "text": [
      "ON THE VALIDATION SET:\n",
      "Chosen best thr = 0.5000\n",
      "\n",
      "ON THE TEST SET:\n",
      "Predicted    0   1\n",
      "True              \n",
      "0          152   3\n",
      "1           15  10\n",
      "\n",
      "0.900 ACC\n",
      "0.400 TPR\n",
      "0.981 TNR\n",
      "0.769 PPV\n",
      "0.910 NPV\n"
     ]
    }
   ],
   "source": [
    "best_thr = 0.5\n",
    "\n",
    "\n",
    "print(\"ON THE VALIDATION SET:\")\n",
    "print(\"Chosen best thr = %.4f\" % best_thr)\n",
    "print(\"\")\n",
    "print(\"ON THE TEST SET:\")\n",
    "print(calc_confusion_matrix_for_threshold(y_te_N, best_probabilities3_test[:,-1], best_thr))\n",
    "print(\"\")\n",
    "print_perf_metrics_for_threshold(y_te_N, best_probabilities3_test[:,-1], best_thr)"
   ]
  },
  {
   "cell_type": "markdown",
   "metadata": {},
   "source": [
    "#### (b) Pick a threshold to maximize TPR, while ensuring PPV >= 0.98.\n",
    "\n",
    "After finding the best threshold on the validation set, plot its confusion matrix and print its various performance metrics, for the test set."
   ]
  },
  {
   "cell_type": "code",
   "execution_count": 176,
   "metadata": {
    "scrolled": false
   },
   "outputs": [
    {
     "name": "stdout",
     "output_type": "stream",
     "text": [
      "ON THE VALIDATION SET:\n",
      "Chosen best thr = 0.6290\n",
      "\n",
      "ON THE TEST SET:\n",
      "Predicted    0  1\n",
      "True             \n",
      "0          155  0\n",
      "1           20  5\n",
      "\n",
      "0.889 ACC\n",
      "0.200 TPR\n",
      "1.000 TNR\n",
      "1.000 PPV\n",
      "0.886 NPV\n"
     ]
    }
   ],
   "source": [
    "thresh_grid, perf_grid = compute_perf_metrics_across_thresholds(y_va_N, best_probabilities3[:,-1])\n",
    "tpr_ppv = zip(perf_grid[\"tpr\"], perf_grid[\"ppv\"])\n",
    "best_metrics = max(tpr_ppv, key= lambda pair: (pair[0] + pair[1]) if pair[1] >= 0.98 else 0)\n",
    "for i, pair in enumerate(zip(perf_grid[\"tpr\"], perf_grid[\"ppv\"])):\n",
    "    if pair == best_metrics:\n",
    "        index = i\n",
    "        break\n",
    "best_thr = thresh_grid[index]\n",
    "\n",
    "\n",
    "print(\"ON THE VALIDATION SET:\")\n",
    "print(\"Chosen best thr = %.4f\" % best_thr )\n",
    "print(\"\")\n",
    "print(\"ON THE TEST SET:\")\n",
    "print(calc_confusion_matrix_for_threshold(y_te_N, best_probabilities3_test[:,-1], best_thr))\n",
    "print(\"\")\n",
    "print_perf_metrics_for_threshold(y_te_N, best_probabilities3_test[:,-1], best_thr)"
   ]
  },
  {
   "cell_type": "markdown",
   "metadata": {},
   "source": [
    "#### (c) Pick a threshold to maximize PPV, while ensuring TPR >= 0.98.\n",
    "\n",
    "After finding the best threshold on the validation set, plot its confusion matrix and print its various performance metrics, for the test set."
   ]
  },
  {
   "cell_type": "code",
   "execution_count": 177,
   "metadata": {},
   "outputs": [
    {
     "name": "stdout",
     "output_type": "stream",
     "text": [
      "ON THE VALIDATION SET:\n",
      "Chosen best thr = 0.0300\n",
      "\n",
      "ON THE TEST SET:\n",
      "Predicted   0   1\n",
      "True             \n",
      "0          57  98\n",
      "1           0  25\n",
      "\n",
      "0.456 ACC\n",
      "1.000 TPR\n",
      "0.368 TNR\n",
      "0.203 PPV\n",
      "1.000 NPV\n"
     ]
    }
   ],
   "source": [
    "thresh_grid, perf_grid = compute_perf_metrics_across_thresholds(y_va_N, best_probabilities3[:,-1])\n",
    "tpr_ppv = zip(perf_grid[\"tpr\"], perf_grid[\"ppv\"])\n",
    "best_metrics = max(tpr_ppv, key= lambda pair: (pair[0] + pair[1]) if pair[0] >= 0.98 else 0)\n",
    "for i, pair in enumerate(zip(perf_grid[\"tpr\"], perf_grid[\"ppv\"])):\n",
    "    if pair == best_metrics:\n",
    "        index = i\n",
    "        break\n",
    "best_thr = thresh_grid[index]\n",
    "\n",
    "print(\"ON THE VALIDATION SET:\")\n",
    "print(\"Chosen best thr = %.4f\" % best_thr )\n",
    "print(\"\")\n",
    "print(\"ON THE TEST SET:\")\n",
    "print(calc_confusion_matrix_for_threshold(y_te_N, best_probabilities3_test[:,-1], best_thr))\n",
    "print(\"\")\n",
    "print_perf_metrics_for_threshold(y_te_N, best_probabilities3_test[:,-1], best_thr)"
   ]
  },
  {
   "cell_type": "markdown",
   "metadata": {},
   "source": [
    "#### (d) Compare the confusion matrices from (a)–(c) to analyze the different thresholds."
   ]
  },
  {
   "cell_type": "markdown",
   "metadata": {},
   "source": [
    "**Answer**: In our case, life threatening mistakes are False Negatives - we want to avoid those at all costs. False Negatives occur when we *predict* negative (0) but our output is really positive (1). Comparing the three confusion matrices, we see that the third one (part c) is the best, since it has the lowest number of False Negatives. We also see that although c seems like the worst based on accuracy (0.456 is the lowest of all), the TPR is 1.000 - the highest of all three classifiers - meaning the classifier correctly identifies all sick people. The fact that the True Negative Rate is so low at 0.368 means that a significant amount of patients would be labeled as sick when they are in fact healthy. Although this may be emotionally jarring, it is less consequential than mislabeling a truly sick person as healthy. Therefore, it may prompt a few additional biopsies, but it will not make life threatening mistakes (for this dataset, few to none for other). Thus, the third classifier is the best overall."
   ]
  },
  {
   "cell_type": "markdown",
   "metadata": {},
   "source": [
    "#### (e) How many biopsies can be avoided using the best threshold for the classifier?"
   ]
  },
  {
   "cell_type": "markdown",
   "metadata": {},
   "source": [
    "**Answer**: 57 patients in our testing dataset would have been spared unnecessary biopsises, since we would have recognized that they are healthy. Overall, the hospital would have avoided performing ~37% of the biopsies it would normally perform, since that is the True Negative Rate for this classifier."
   ]
  },
  {
   "cell_type": "markdown",
   "metadata": {},
   "source": [
    "## Part Two: Decision Trees\n",
    "\n",
    "You should start by computing the two heuristic values for the toy data described in the assignment handout. You should then load the two versions of the abalone data, compute the two heuristic values on features (for the simplified data), and then build decision trees for each set of data."
   ]
  },
  {
   "cell_type": "markdown",
   "metadata": {},
   "source": [
    "### 2.1 Compute both heuristics for toy data."
   ]
  },
  {
   "cell_type": "markdown",
   "metadata": {},
   "source": [
    "#### (a) Compute the counting-based heuristic, and order the features by it."
   ]
  },
  {
   "cell_type": "code",
   "execution_count": 178,
   "metadata": {},
   "outputs": [
    {
     "name": "stdout",
     "output_type": "stream",
     "text": [
      "A: 6/8, B: 6/8 \n"
     ]
    }
   ],
   "source": [
    "print(\"{}: {}/{}, {}: {}/{} \".format(\"A\", 6, 8, \"B\", 6, 8,))"
   ]
  },
  {
   "cell_type": "markdown",
   "metadata": {},
   "source": [
    "#### (b) Compute the information-theoretic heuristic, and order the features by it."
   ]
  },
  {
   "cell_type": "code",
   "execution_count": 180,
   "metadata": {
    "scrolled": false
   },
   "outputs": [
    {
     "name": "stdout",
     "output_type": "stream",
     "text": [
      "B: 0.189, A: 0.311 \n"
     ]
    }
   ],
   "source": [
    "def entropy(*args):\n",
    "    e = 0\n",
    "    for arg in args:\n",
    "        e -= arg*math.log2(arg) if arg > 0 else 0\n",
    "    return e\n",
    "\n",
    "print(\"{2:}: {3:.3f}, {0:}: {1:.3f} \".format(\"A\", 1 - (0.25*entropy(0, 1) + 0.75*entropy(2/6, 4/6)), \n",
    "                                             \"B\", 1 - (0.5*entropy(0.75, 0.25) + 0.5*entropy(0.25, 0.75))))"
   ]
  },
  {
   "cell_type": "markdown",
   "metadata": {},
   "source": [
    "#### (c) Discussion of results.\n",
    "\n",
    "If we built a tree with using the first heuristic, we would conclude that the choice to use A or B as the root is arbitrary, since they both have a counting-based heuristic value of 6/8. \n",
    "On the other hand, if we built a tree using the second heuristic, we would see that B is a much better choice for our root feature, since we gain more information (mathematically speaking) from splitting our dataset on it than using A as the root. \n",
    "\n",
    "This underscores the importance of choosing a meaningful heuristic when building these trees, and shows how choosing a poor heuristic can be misleading. Using multiple heuristics and comparing may be optimal."
   ]
  },
  {
   "cell_type": "markdown",
   "metadata": {},
   "source": [
    "### 2.2 Compute both heuristics for simplified abalone data."
   ]
  },
  {
   "cell_type": "markdown",
   "metadata": {},
   "source": [
    "#### (a) Compute the counting-based heuristic, and order the features by it."
   ]
  },
  {
   "cell_type": "code",
   "execution_count": 181,
   "metadata": {
    "scrolled": false
   },
   "outputs": [
    {
     "name": "stdout",
     "output_type": "stream",
     "text": [
      "height_mm: 2316/3176, diam_mm: 2266/3176, length_mm: 2230/3176, is_male: 1864/3176"
     ]
    }
   ],
   "source": [
    "mini_x_tr = np.loadtxt('./data_abalone/small_binary_x_train.csv', delimiter=',', skiprows=1)\n",
    "mini_y_tr = np.loadtxt('./data_abalone/3class_y_train.csv', delimiter=',', skiprows=1)\n",
    "\n",
    "def get_majority(pile):\n",
    "    outputs = []\n",
    "    for x, y in pile:\n",
    "        outputs.append(y)\n",
    "    return statistics.mode(outputs)\n",
    "        \n",
    "def number_correct(pile, majority):\n",
    "    n = 0\n",
    "    for x, y in pile:\n",
    "        if y == majority:\n",
    "            n += 1\n",
    "    return n\n",
    "\n",
    "def C_pretty_print(feature_labels, counts, total):\n",
    "    counts = sorted(counts, key= lambda x: x[0], reverse=True)\n",
    "    for i, count in enumerate(counts):\n",
    "        print(\"{}: {}/{}\".format(feature_labels[str(counts[i][1])], counts[i][0], total), end = \"\")\n",
    "        print(\", \" if i < 3 else \"\", end = \"\")\n",
    "    \n",
    "\n",
    "features = [[] for f in range(2 * len(mini_x_tr[0]))]\n",
    "for i in range(0, len(features), 2):\n",
    "    for xy in zip(mini_x_tr, mini_y_tr):\n",
    "        currF = int(i/2)\n",
    "        features[i + int(xy[0][currF])].append(xy)\n",
    "\n",
    "total = 3176\n",
    "counting_heuristic = [number_correct(feature, get_majority(feature)) for feature in features]\n",
    "counts = [(counting_heuristic[i]+counting_heuristic[i+1], int(i/2)) for i in range(0, len(counting_heuristic), 2)]\n",
    "feature_labels = { \"0\": \"is_male\", \n",
    "                   \"1\": \"length_mm\",\n",
    "                   \"2\": \"diam_mm\",\n",
    "                   \"3\": \"height_mm\"\n",
    "                 }\n",
    "C_pretty_print(feature_labels, counts, total)"
   ]
  },
  {
   "cell_type": "markdown",
   "metadata": {},
   "source": [
    "#### (b) Compute the information-theoretic heuristic, and order the features by it."
   ]
  },
  {
   "cell_type": "code",
   "execution_count": 183,
   "metadata": {
    "scrolled": false
   },
   "outputs": [
    {
     "name": "stdout",
     "output_type": "stream",
     "text": [
      "height_mm: 0.173, diam_mm: 0.150, length_mm: 0.135, is_male: 0.025"
     ]
    }
   ],
   "source": [
    "def split_classes(mini, num_classes):\n",
    "    splits = [0 for i in range(num_classes)]\n",
    "    for y in mini:\n",
    "        splits[int(y[1])] += 1\n",
    "    return splits\n",
    "\n",
    "def divide_classes(mini, num_classes):\n",
    "    splits = [0 for i in range(num_classes)]\n",
    "    for y in mini:\n",
    "        splits[int(y)] += 1\n",
    "    return splits\n",
    "\n",
    "def get_remainders(remainders, features, total):\n",
    "    for i, pile in enumerate([feature for feature in features]):\n",
    "        class1, class2, class3 = split_classes(pile, 3)\n",
    "        remainders[i] =  (len(pile)/total) * entropy(class1/len(pile), class2/len(pile), class3/len(pile))\n",
    "    return remainders\n",
    "\n",
    "def I_pretty_print(feature_labels, counts, total):\n",
    "    counts = sorted(counts, key= lambda x: x[0], reverse=True)\n",
    "    for i, count in enumerate(counts):\n",
    "        print(\"{}: {:.3f}\".format(feature_labels[str(counts[i][1])], counts[i][0]), end = \"\")\n",
    "        print(\", \" if i < 3 else \"\", end = \"\")\n",
    "\n",
    "class1_size, class2_size, class3_size = divide_classes(mini_y_tr, 3)\n",
    "H = entropy(class1_size/total, class2_size/total, class3_size/total)\n",
    "remainders = [0 for f in range(2*len(mini_x_tr[0]))]\n",
    "remainders = get_remainders(remainders, features, total)\n",
    "feature_remainders = [(remainders[i] + remainders[i+1], int(i/2)) for i in range(0, len(remainders), 2)]\n",
    "gainz = [(H - remainder[0], remainder[1]) for remainder in feature_remainders]\n",
    "I_pretty_print(feature_labels, gainz, total)"
   ]
  },
  {
   "cell_type": "markdown",
   "metadata": {},
   "source": [
    "### 2.3 Generate decision trees for full- and restricted-feature data\n",
    "\n",
    "#### (a) Print accuracy values and generate tree images."
   ]
  },
  {
   "cell_type": "code",
   "execution_count": 186,
   "metadata": {
    "scrolled": true
   },
   "outputs": [
    {
     "name": "stdout",
     "output_type": "stream",
     "text": [
      "Binary Training Score: 0.733\n",
      "Binary Testing Score:  0.722\n",
      "Real Training Score:   1.000\n",
      "Real Test Score:       0.176\n"
     ]
    },
    {
     "data": {
      "text/plain": [
       "'Full Data Tree.pdf'"
      ]
     },
     "execution_count": 186,
     "metadata": {},
     "output_type": "execute_result"
    }
   ],
   "source": [
    "mini_groot = sklearn.tree.DecisionTreeClassifier(criterion='entropy')\n",
    "big_groot  = sklearn.tree.DecisionTreeClassifier(criterion='entropy')\n",
    "mini_x_te = np.loadtxt('./data_abalone/small_binary_x_test.csv', delimiter=',', skiprows=1)\n",
    "mini_y_te = np.loadtxt('./data_abalone/3class_y_test.csv', delimiter=',', skiprows=1)\n",
    "big_x_tr  = np.loadtxt('./data_abalone/x_train.csv', delimiter=',', skiprows=1)\n",
    "big_y_tr  = np.loadtxt('./data_abalone/y_train.csv', delimiter=',', skiprows=1)\n",
    "big_x_te  = np.loadtxt('./data_abalone/x_test.csv', delimiter=',', skiprows=1)\n",
    "big_y_te  = np.loadtxt('./data_abalone/y_test.csv', delimiter=',', skiprows=1)\n",
    "\n",
    "mini_groot.fit(mini_x_tr, mini_y_tr)\n",
    "mini_train = mini_groot.score(mini_x_tr, mini_y_tr)\n",
    "mini_test  = mini_groot.score(mini_x_te, mini_y_te)\n",
    "big_groot.fit(big_x_tr, big_y_tr)\n",
    "big_train  = big_groot.score(big_x_tr, big_y_tr)\n",
    "big_test   = big_groot.score(big_x_te, big_y_te)\n",
    "\n",
    "print(\"Binary Training Score: {:.3f}\".format(mini_train))\n",
    "print(\"Binary Testing Score:  {:.3f}\".format(mini_test))\n",
    "print(\"Real Training Score:   {:.3f}\".format(big_train))\n",
    "print(\"Real Test Score:       {:.3f}\".format(big_test))\n",
    "\n",
    "\n",
    "dot_data = sklearn.tree.export_graphviz(mini_groot, out_file=None) \n",
    "graph = graphviz.Source(dot_data)\n",
    "graph.render(\"Binary Data Tree\")\n",
    "\n",
    "dot_data2 = sklearn.tree.export_graphviz(big_groot, out_file=None) \n",
    "graph2 = graphviz.Source(dot_data2) \n",
    "graph2.render(\"Full Data Tree\")"
   ]
  },
  {
   "cell_type": "markdown",
   "metadata": {},
   "source": [
    "#### (b) Discuss the results seen for the two trees\n",
    "\n",
    "The Binary Data Tree is *much* smaller than the Full Data Tree. The fact that the Full Data Tree (non-binary data) is so large leads us to believe it is massively overfit to our training data. If we zoom in on some of the branches, it has a lot of nodes where the number of data points from most classes is zero (in most cases, all but one class has a nonzero value), meaning it basically created a path for every outcome seen in the training dataset.\n",
    "\n",
    "We see this further reflected in the fact that most nodes at depth >= 3 have entropy zero in the full tree- meaning they have been perfectly divided across each feature, and our real training score is perfect (1.000). Notice however that our Real Test score is 0.176 - meaning the full tree fails ~82% of the time on new data. Once again, this leads us to believe there is a lot of overfitting going on.\n",
    "\n",
    "For the binary data, performance remains relatively unchanged (and high) across both the Training and Testing, with over 70% accuracy in both cases.\n",
    "\n",
    "Overall, this shows that the Binary data, although much smaller/simpler than the real dataset, is much more accurate. This in turn would suggest that the 4 characteristics that were discarded in the binary dataset - namely, whole_weight_g, shucked_weight_g, viscera_weight_g, and shell_weight_g - may not actually be as important, since we can still get over 70% accuracy by ignoring them completely.\n",
    "\n",
    "Looking at the leaves of both trees, we see that the Binary Data Tree's leaves have much higher entropy than those in the Full Data Tree, although still less than the 1.062 we started with. Looking at the Binary Tree, we see that in most cases, the tree completely eliminates one possible output value and is having trouble deciding between the final two, although there is a slight bias towards the correct answer in many cases, giving us our relatively high accuracy on binary data."
   ]
  }
 ],
 "metadata": {
  "kernelspec": {
   "display_name": "Python 3",
   "language": "python",
   "name": "python3"
  },
  "language_info": {
   "codemirror_mode": {
    "name": "ipython",
    "version": 3
   },
   "file_extension": ".py",
   "mimetype": "text/x-python",
   "name": "python",
   "nbconvert_exporter": "python",
   "pygments_lexer": "ipython3",
   "version": "3.7.6"
  }
 },
 "nbformat": 4,
 "nbformat_minor": 2
}
